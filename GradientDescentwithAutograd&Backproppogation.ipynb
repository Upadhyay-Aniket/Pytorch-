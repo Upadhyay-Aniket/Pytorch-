{
  "nbformat": 4,
  "nbformat_minor": 0,
  "metadata": {
    "colab": {
      "provenance": []
    },
    "kernelspec": {
      "name": "python3",
      "display_name": "Python 3"
    },
    "language_info": {
      "name": "python"
    }
  },
  "cells": [
    {
      "cell_type": "code",
      "execution_count": 10,
      "metadata": {
        "colab": {
          "base_uri": "https://localhost:8080/"
        },
        "id": "sePX1wGvMbel",
        "outputId": "d861d1a1-4949-4d7e-b7b6-17bf987962a3"
      },
      "outputs": [
        {
          "output_type": "stream",
          "name": "stdout",
          "text": [
            "Prediction before training: f(5) = 0.000\n",
            "Epoch 1: w = 1.200, loss = 30.00000000\n",
            "Epoch 3: w = 1.872, loss = 0.76800019\n",
            "Epoch 5: w = 1.980, loss = 0.01966083\n",
            "Epoch 7: w = 1.997, loss = 0.00050331\n",
            "Epoch 9: w = 1.999, loss = 0.00001288\n",
            "Epoch 11: w = 2.000, loss = 0.00000033\n",
            "Epoch 13: w = 2.000, loss = 0.00000001\n",
            "Epoch 15: w = 2.000, loss = 0.00000000\n",
            "Epoch 17: w = 2.000, loss = 0.00000000\n",
            "Epoch 19: w = 2.000, loss = 0.00000000\n",
            "Prediction after training: f(5) = 10.000\n"
          ]
        }
      ],
      "source": [
        "# prediction= manually\n",
        "# gradient computation = manually\n",
        "# loss computation = manually\n",
        "# parameter update = manually\n",
        "\n",
        "import numpy as np\n",
        "\n",
        "X = np.array([1, 2, 3, 4], dtype=np.float32)\n",
        "Y = np.array([2, 4, 6, 8], dtype=np.float32)\n",
        "\n",
        "w = 0.0\n",
        "\n",
        "# Model prediction\n",
        "def forward(x):\n",
        "    return w * x\n",
        "\n",
        "# Loss function (MSE)\n",
        "def loss(y, y_predicted):\n",
        "    return ((y_predicted - y) ** 2).mean()\n",
        "\n",
        "# Gradient calculation\n",
        "def gradient(x, y, y_predicted):\n",
        "    return np.dot(2 * x, y_predicted - y).mean()\n",
        "\n",
        "print(f'Prediction before training: f(5) = {forward(5):0.3f}')\n",
        "\n",
        "# Training\n",
        "learning_rate = 0.01\n",
        "n_iters = 20\n",
        "\n",
        "for epoch in range(n_iters):\n",
        "    # Prediction (forward pass)\n",
        "    y_pred = forward(X)\n",
        "\n",
        "    # Loss calculation\n",
        "    l = loss(Y, y_pred)\n",
        "\n",
        "    # Gradient calculation\n",
        "    dw = gradient(X, Y, y_pred)\n",
        "\n",
        "    # Update weights\n",
        "    w -= learning_rate * dw\n",
        "\n",
        "    if epoch % 2 == 0:\n",
        "        print(f'Epoch {epoch + 1}: w = {w:.3f}, loss = {l:.8f}')\n",
        "\n",
        "print(f'Prediction after training: f(5) = {forward(5):0.3f}')\n"
      ]
    },
    {
      "cell_type": "code",
      "source": [
        "# prediction = manually\n",
        "# gradient computation = Autograd\n",
        "# loss computatin = manually\n",
        "# parameter update = manually\n",
        "import torch\n",
        "\n",
        "X = torch.tensor([1, 2, 3, 4], dtype=torch.float32)\n",
        "Y = torch.tensor([2, 4, 6, 8], dtype=torch.float32)\n",
        "\n",
        "w = torch.tensor(0.0, dtype= torch.float32, requires_grad=True)\n",
        "\n",
        "# Model prediction\n",
        "def forward(x):\n",
        "    return w * x\n",
        "\n",
        "# Loss function (MSE)\n",
        "def loss(y, y_predicted):\n",
        "    return ((y_predicted - y) ** 2).mean()\n",
        "\n",
        "print(f'Prediction before training: f(5) = {forward(5):0.3f}')\n",
        "\n",
        "# Training\n",
        "learning_rate = 0.01\n",
        "n_iters = 100\n",
        "\n",
        "for epoch in range(n_iters):\n",
        "    # Prediction (forward pass)\n",
        "    y_pred = forward(X)\n",
        "\n",
        "    # Loss calculation\n",
        "    l = loss(Y, y_pred)\n",
        "\n",
        "    # Gradient calculation = backward pass\n",
        "    l.backward( ) # dl/dw\n",
        "\n",
        "    # Update weights\n",
        "    with torch.no_grad():\n",
        "      w -= learning_rate * w.grad\n",
        "\n",
        "    # zero gradients\n",
        "    w.grad.zero_()\n",
        "\n",
        "    if epoch % 10 == 0:\n",
        "        print(f'Epoch {epoch + 1}: w = {w:.3f}, loss = {l:.8f}')\n",
        "\n",
        "print(f'Prediction after training: f(5) = {forward(5):0.3f}')\n"
      ],
      "metadata": {
        "colab": {
          "base_uri": "https://localhost:8080/"
        },
        "id": "FEiPJa6NTOuC",
        "outputId": "36dcbc71-5dd9-4e90-dc75-842688041f38"
      },
      "execution_count": 9,
      "outputs": [
        {
          "output_type": "stream",
          "name": "stdout",
          "text": [
            "Prediction before training: f(5) = 0.000\n",
            "Epoch 1: w = 0.300, loss = 30.00000000\n",
            "Epoch 11: w = 1.665, loss = 1.16278565\n",
            "Epoch 21: w = 1.934, loss = 0.04506890\n",
            "Epoch 31: w = 1.987, loss = 0.00174685\n",
            "Epoch 41: w = 1.997, loss = 0.00006770\n",
            "Epoch 51: w = 1.999, loss = 0.00000262\n",
            "Epoch 61: w = 2.000, loss = 0.00000010\n",
            "Epoch 71: w = 2.000, loss = 0.00000000\n",
            "Epoch 81: w = 2.000, loss = 0.00000000\n",
            "Epoch 91: w = 2.000, loss = 0.00000000\n",
            "Prediction after training: f(5) = 10.000\n"
          ]
        }
      ]
    }
  ]
}