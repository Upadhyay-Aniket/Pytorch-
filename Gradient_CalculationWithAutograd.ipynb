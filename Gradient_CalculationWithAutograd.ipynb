{
  "nbformat": 4,
  "nbformat_minor": 0,
  "metadata": {
    "colab": {
      "provenance": []
    },
    "kernelspec": {
      "name": "python3",
      "display_name": "Python 3"
    },
    "language_info": {
      "name": "python"
    }
  },
  "cells": [
    {
      "cell_type": "code",
      "source": [
        "# autograd package to do all the computational for us.\n",
        "import torch\n",
        "\n",
        "x = torch.randn(3, requires_grad=True)\n",
        "print(x)"
      ],
      "metadata": {
        "colab": {
          "base_uri": "https://localhost:8080/"
        },
        "id": "-1JvGolr8agE",
        "outputId": "c1a7c393-9178-4039-b60c-5b9a2463ba06"
      },
      "execution_count": 11,
      "outputs": [
        {
          "output_type": "stream",
          "name": "stdout",
          "text": [
            "tensor([ 0.1342, -0.1606, -0.0178], requires_grad=True)\n"
          ]
        }
      ]
    },
    {
      "cell_type": "code",
      "source": [
        "y = x+2\n",
        "print(y)\n",
        "z = y*y*2\n",
        "# z = z.mean()\n",
        "print(z)\n",
        "\n",
        "v = torch.tensor([0.1, 1.0, 0.001], dtype=torch.float32)\n",
        "z.backward(v)\n",
        "print(x.grad)"
      ],
      "metadata": {
        "colab": {
          "base_uri": "https://localhost:8080/"
        },
        "id": "idvVwa3n-KSK",
        "outputId": "136b1fbe-2afb-40a5-ac2a-baabce82b6c5"
      },
      "execution_count": 16,
      "outputs": [
        {
          "output_type": "stream",
          "name": "stdout",
          "text": [
            "tensor([2.1342, 1.8394, 1.9822], grad_fn=<AddBackward0>)\n",
            "tensor([9.1094, 6.7666, 7.8582], grad_fn=<MulBackward0>)\n",
            "tensor([3.6992, 9.8100, 2.6509])\n"
          ]
        }
      ]
    },
    {
      "cell_type": "code",
      "source": [
        "# x.requires_grad_(False)\n",
        "# x.detach()\n",
        "# with torch.no_grad()\n",
        "x.requires_grad_(False)\n",
        "print(x)\n",
        "\n",
        "y = x.detach()\n",
        "print(y)\n",
        "\n",
        "with torch.no_grad():\n",
        "  y = x+2\n",
        "  print(y)"
      ],
      "metadata": {
        "colab": {
          "base_uri": "https://localhost:8080/"
        },
        "id": "Vae61vbMAC0w",
        "outputId": "9c32df48-cd8e-4735-a13a-c70a9a7ffc16"
      },
      "execution_count": 21,
      "outputs": [
        {
          "output_type": "stream",
          "name": "stdout",
          "text": [
            "tensor([ 0.1342, -0.1606, -0.0178])\n",
            "tensor([ 0.1342, -0.1606, -0.0178])\n",
            "tensor([2.1342, 1.8394, 1.9822])\n",
            "tensor([2.1342, 1.8394, 1.9822])\n"
          ]
        }
      ]
    },
    {
      "cell_type": "code",
      "source": [
        "weights = torch.ones(4, requires_grad=True)\n",
        "\n",
        "for epoch in range(3):\n",
        "  model_output= (weights*3).sum()\n",
        "\n",
        "  model_output.backward()\n",
        "\n",
        "  print(weights.grad)\n",
        "\n",
        "  weights.grad.zero_()"
      ],
      "metadata": {
        "colab": {
          "base_uri": "https://localhost:8080/"
        },
        "id": "j1aamDdVBfB7",
        "outputId": "d2c63df2-195c-46de-cba0-28337de702dd"
      },
      "execution_count": 26,
      "outputs": [
        {
          "output_type": "stream",
          "name": "stdout",
          "text": [
            "tensor([3., 3., 3., 3.])\n",
            "tensor([3., 3., 3., 3.])\n",
            "tensor([3., 3., 3., 3.])\n"
          ]
        }
      ]
    }
  ]
}