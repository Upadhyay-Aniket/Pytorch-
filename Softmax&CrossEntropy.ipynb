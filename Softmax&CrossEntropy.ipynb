{
  "nbformat": 4,
  "nbformat_minor": 0,
  "metadata": {
    "colab": {
      "provenance": []
    },
    "kernelspec": {
      "name": "python3",
      "display_name": "Python 3"
    },
    "language_info": {
      "name": "python"
    }
  },
  "cells": [
    {
      "cell_type": "code",
      "execution_count": 3,
      "metadata": {
        "id": "dh16ya-qz5kb",
        "colab": {
          "base_uri": "https://localhost:8080/"
        },
        "outputId": "9a6e38ad-5749-4fde-df21-f5d4a67d5a62"
      },
      "outputs": [
        {
          "output_type": "stream",
          "name": "stdout",
          "text": [
            "softmax numpy: [0.65900114 0.24243297 0.09856589]\n",
            "tensor([0.6590, 0.2424, 0.0986])\n"
          ]
        }
      ],
      "source": [
        "# Softmax is a mathematical function that converts a vector of raw scores\n",
        "# (also known as logits) into a probability distribution.\n",
        "import torch\n",
        "import torch.nn as nn\n",
        "import numpy as np\n",
        "\n",
        "def softmax(x):\n",
        "  return np.exp(x) / np.sum(np.exp(x), axis =0)\n",
        "\n",
        "x = np.array([2.0,1.0,0.1])\n",
        "outputs = softmax(x)\n",
        "print('softmax numpy:', outputs)\n",
        "\n",
        "x = torch.tensor([2.0,1.0,0.1])\n",
        "outputs = torch.softmax(x, dim=0)\n",
        "print(outputs)"
      ]
    },
    {
      "cell_type": "code",
      "source": [
        "# Cross-entropy is a measure of the difference between two probability distributions,\n",
        "# typically used in the context of classification problems.\n",
        "# same code in numpy\n",
        "\n",
        "import torch\n",
        "import torch.nn as nn\n",
        "import numpy as mp\n",
        "def cross_entropy(actual, predicted):\n",
        "  loss = -np.sum(actual * np.log(predicted))\n",
        "  return loss # /float predicted.shape[0]\n",
        "\n",
        "# y must be one hot encoded\n",
        "# if class 0: [1 0 0]\n",
        "# if class 1: [0 1 0]\n",
        "# if class 2: [0 0 1]\n",
        "Y = np.array([1, 0, 0])\n",
        "\n",
        "# y_pred has probabilities\n",
        "Y_pred_good = np.array([0.7, 0.2, 0.1])\n",
        "Y_pred_bad = np.array([0.1, 0.3, 0.6])\n",
        "l1 = cross_entropy(Y, Y_pred_good)\n",
        "l2 = cross_entropy(Y, Y_pred_bad)\n",
        "print(f'Loss1 numpy: {l1:0.4f}')\n",
        "print(f'Loss2 numpy: {l2:0.4f}')\n",
        "\n",
        "# ------------------------------------------------------------------------------#---------------------------------------------------------------------------#\n",
        "# Cross Entropy Loss in Pytorch\n",
        "import torch\n",
        "import torch.nn as nn\n",
        "\n",
        "loss = nn.CrossEntropyLoss()\n",
        "\n",
        "# # Y contains class indices (not one-hot encoded)\n",
        "# Y = torch.tensor([0])  # Class index 0\n",
        "\n",
        "# # Y_pred_good and Y_pred_bad contain logits (raw scores), not probabilities\n",
        "# Y_pred_good = torch.tensor([[2.0, 1.0, 0.1]])  # Raw scores for each class\n",
        "# Y_pred_bad = torch.tensor([[0.5, 2.0, 0.3]])     # Raw scores for each class\n",
        "\n",
        "# 3 samples\n",
        "Y = torch.tensor([2, 0, 1])\n",
        "\n",
        "Y_pred_good = torch.tensor([[0.1, 1.0, 2.1], [2.0, 1.0, 0.1], [0.1, 3.0, 0.1]])\n",
        "Y_pred_bad = torch.tensor([[2.1, 1.0, 0.1], [0.1, 1.0, 2.1], [0.1, 3.0, 0.1]])\n",
        "\n",
        "# Calculate the loss\n",
        "l1 = loss(Y_pred_good, Y)\n",
        "l2 = loss(Y_pred_bad, Y)\n",
        "\n",
        "print(l1.item())  # Loss for Y_pred_good\n",
        "print(l2.item())  # Loss for Y_pred_bad\n",
        "\n",
        "# Get the predicted classes\n",
        "_, predictions1 = torch.max(Y_pred_good, 1)\n",
        "_, predictions2 = torch.max(Y_pred_bad, 1)\n",
        "\n",
        "print(predictions1)  # Predicted classes for Y_pred_good\n",
        "print(predictions2)  # Predicted classes for Y_pred_bad"
      ],
      "metadata": {
        "colab": {
          "base_uri": "https://localhost:8080/"
        },
        "id": "MGZ_K9sXZTGj",
        "outputId": "f286e797-9d39-4f34-cbfa-9c5dcdbcc5c6"
      },
      "execution_count": 21,
      "outputs": [
        {
          "output_type": "stream",
          "name": "stdout",
          "text": [
            "Loss1 numpy: 0.3567\n",
            "Loss2 numpy: 2.3026\n",
            "0.3018244206905365\n",
            "1.6241613626480103\n",
            "tensor([2, 0, 1])\n",
            "tensor([0, 2, 1])\n"
          ]
        }
      ]
    },
    {
      "cell_type": "code",
      "source": [
        "# Neural Net With Softmax\n",
        "import torch\n",
        "import torch.nn as nn\n",
        "\n",
        "class NeuralNet2(nn.Module):\n",
        "  def __init__(self, input_size, hidden_size, num_classes):\n",
        "    super(NeuralNet2, self).__init__()\n",
        "    self.linear1 = nn.Linear(input_size, hidden_size) # layer\n",
        "    self.relu = nn.ReLU() # Activation\n",
        "    self.linear2 = nn.Linear(hidden_size, num_classes) # layer\n",
        "\n",
        "  def forward(self, x): # forward pass\n",
        "    out = self.linear1(x)\n",
        "    out = self.relu(out)\n",
        "    out = self.linear2(out)\n",
        "    # no softmax in the end\n",
        "    return out\n",
        "\n",
        "model = NeuralNet2(input_size=28*28, hidden_size=5, num_classes=3)\n",
        "criterion = nn.CrossEntropyLoss() # applies Softmax"
      ],
      "metadata": {
        "id": "94pnddeibfvf"
      },
      "execution_count": 27,
      "outputs": []
    },
    {
      "cell_type": "code",
      "source": [
        "# Binary Problems\n",
        "import torch\n",
        "import torch.nn as nn\n",
        "\n",
        "# Binary Classification\n",
        "class NeuralNet1(nn.Module):\n",
        "  def __init__(self, input_size, hidden_size, num_classes):\n",
        "    super(NeuralNet1, self).__init__()\n",
        "    self.linear1 = nn.Linear(input_size, hidden_size) # layer\n",
        "    self.relu = nn.ReLU() # Activation\n",
        "    self.linear2 = nn.Linear(hidden_size, num_classes) # layer\n",
        "\n",
        "  def forward(self, x): # forward pass\n",
        "    out = self.linear1(x)\n",
        "    out = self.relu(out)\n",
        "    out = self.linear2(out)\n",
        "    # sidmoid in the end\n",
        "    y_pred = torch.sigmoid(out)\n",
        "    return y_pred\n",
        "\n",
        "model = NeuralNet2(input_size=28*28, hidden_size=5, num_classes=3)\n",
        "criterion = nn.BCELoss()"
      ],
      "metadata": {
        "id": "14hSluzFlBXp"
      },
      "execution_count": 29,
      "outputs": []
    }
  ]
}